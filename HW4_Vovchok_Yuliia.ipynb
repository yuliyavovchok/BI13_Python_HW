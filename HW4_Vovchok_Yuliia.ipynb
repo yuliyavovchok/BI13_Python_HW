{
 "cells": [
  {
   "cell_type": "markdown",
   "metadata": {},
   "source": [
    "Завдання:\n",
    "1. Прочитайте офіційну специфікацію формату та приклади -\n",
    "https://docs.python.org/3.4/library/string.html#formatspec\n",
    "2. Прочитайте документацію формату дата та час -\n",
    "https://docs.python.org/3/library/datetime.html#strftime-strptime-behavior\n",
    "А краще тут\n",
    "https://www.w3schools.com/python/python_datetime.asp\n",
    "https://www.programiz.com/python-programming/time\n",
    "3. Прочитайте цей посібник з функцій\n",
    "https://docs.python.org/3.7/tutorial/controlflow.html#defining-functions\n",
    "https://www.w3schools.com/python/python_functions.asp\n",
    "4. Використовуйте модуль часу, щоб порівняти продуктивність\n",
    "«ефективного» методу пошуку простих чисел із простою реалізацією (без\n",
    "перерв, тестування за всіма числами тощо). Перевірте кілька діапазонів\n",
    "пошуку простих чисел (наприклад, до 100, до 1000 і т.д.)\n",
    "Ефективний метод - будь який математично визначиний підхід обрахунку.\n",
    "Рекомендую дивитись метод Решето Эратосфена - https://ru.wikipedia.org/wiki/\n",
    "Решето_Эратосфена"
   ]
  },
  {
   "cell_type": "markdown",
   "metadata": {},
   "source": [
    "Спосіб 1: Створення декоратора для розрахунку часу виконання функції."
   ]
  },
  {
   "cell_type": "code",
   "execution_count": 1,
   "metadata": {},
   "outputs": [],
   "source": [
    "#Створення декоратора\n",
    "import time\n",
    "\n",
    "def timer(func):                        # Аргумент - функція\n",
    "    def wrapper(*args, **kwargs):       # Функція з будь якими аргументами\n",
    "        start_time = time.time()        # Час початку\n",
    "        result = func(*args, **kwargs)  # Виконання вкладеної функції\n",
    "        end_time = time.time()          # Час закінчення виконання функції\n",
    "        print(f\"Час виконання {func.__name__}: {end_time - start_time} секунд\")\n",
    "        #return result                  # Закоментувала, оскільки виводимо великі списки. Щоб не відволікатись від часу виконання\n",
    "    return wrapper"
   ]
  },
  {
   "cell_type": "code",
   "execution_count": 2,
   "metadata": {},
   "outputs": [],
   "source": [
    "# Створюємо змінні для введення в майбутні функції для порівняння часу виконання\n",
    "a = 100\n",
    "b = 1000\n",
    "c = 10000\n",
    "d = 100000"
   ]
  },
  {
   "cell_type": "code",
   "execution_count": 3,
   "metadata": {},
   "outputs": [
    {
     "name": "stdout",
     "output_type": "stream",
     "text": [
      "Час виконання prime_simple: 0.007028102874755859 секунд\n",
      "Час виконання prime_simple: 0.032147884368896484 секунд\n",
      "Час виконання prime_simple: 3.6139702796936035 секунд\n"
     ]
    },
    {
     "ename": "KeyboardInterrupt",
     "evalue": "",
     "output_type": "error",
     "traceback": [
      "\u001b[1;31m---------------------------------------------------------------------------\u001b[0m",
      "\u001b[1;31mKeyboardInterrupt\u001b[0m                         Traceback (most recent call last)",
      "Cell \u001b[1;32mIn[3], line 12\u001b[0m\n\u001b[0;32m     10\u001b[0m prime_simple(b) \n\u001b[0;32m     11\u001b[0m prime_simple(c) \n\u001b[1;32m---> 12\u001b[0m prime_simple(d) \u001b[39m# Досить затратний спосіб для великого діапазона. - більше трьох хвилин\u001b[39;00m\n",
      "Cell \u001b[1;32mIn[1], line 7\u001b[0m, in \u001b[0;36mtimer.<locals>.wrapper\u001b[1;34m(*args, **kwargs)\u001b[0m\n\u001b[0;32m      5\u001b[0m \u001b[39mdef\u001b[39;00m \u001b[39mwrapper\u001b[39m(\u001b[39m*\u001b[39margs, \u001b[39m*\u001b[39m\u001b[39m*\u001b[39mkwargs):       \u001b[39m# Функція з будь якими аргументами\u001b[39;00m\n\u001b[0;32m      6\u001b[0m     start_time \u001b[39m=\u001b[39m time\u001b[39m.\u001b[39mtime()        \u001b[39m# Час початку\u001b[39;00m\n\u001b[1;32m----> 7\u001b[0m     result \u001b[39m=\u001b[39m func(\u001b[39m*\u001b[39;49margs, \u001b[39m*\u001b[39;49m\u001b[39m*\u001b[39;49mkwargs)  \u001b[39m# Виконання вкладеної функції\u001b[39;00m\n\u001b[0;32m      8\u001b[0m     end_time \u001b[39m=\u001b[39m time\u001b[39m.\u001b[39mtime()          \u001b[39m# Час закінчення виконання функції\u001b[39;00m\n\u001b[0;32m      9\u001b[0m     \u001b[39mprint\u001b[39m(\u001b[39mf\u001b[39m\u001b[39m\"\u001b[39m\u001b[39mЧас виконання \u001b[39m\u001b[39m{\u001b[39;00mfunc\u001b[39m.\u001b[39m\u001b[39m__name__\u001b[39m\u001b[39m}\u001b[39;00m\u001b[39m: \u001b[39m\u001b[39m{\u001b[39;00mend_time\u001b[39m \u001b[39m\u001b[39m-\u001b[39m\u001b[39m \u001b[39mstart_time\u001b[39m}\u001b[39;00m\u001b[39m секунд\u001b[39m\u001b[39m\"\u001b[39m)\n",
      "Cell \u001b[1;32mIn[3], line 6\u001b[0m, in \u001b[0;36mprime_simple\u001b[1;34m(n)\u001b[0m\n\u001b[0;32m      4\u001b[0m \u001b[39m@timer\u001b[39m      \u001b[39m#декоратор\u001b[39;00m\n\u001b[0;32m      5\u001b[0m \u001b[39mdef\u001b[39;00m \u001b[39mprime_simple\u001b[39m(n: \u001b[39mint\u001b[39m) \u001b[39m-\u001b[39m\u001b[39m>\u001b[39m \u001b[39mlist\u001b[39m:   \u001b[39m#створення функції, яка приймає число - кінець діапазону пошуку простих чисел\u001b[39;00m\n\u001b[1;32m----> 6\u001b[0m     list_prime \u001b[39m=\u001b[39m [i \u001b[39mfor\u001b[39;49;00m i \u001b[39min\u001b[39;49;00m \u001b[39mrange\u001b[39;49m(\u001b[39m2\u001b[39;49m, n \u001b[39m+\u001b[39;49m \u001b[39m1\u001b[39;49m) \u001b[39mif\u001b[39;49;00m \u001b[39mnot\u001b[39;49;00m [j \u001b[39mfor\u001b[39;49;00m j \u001b[39min\u001b[39;49;00m \u001b[39mrange\u001b[39;49m(\u001b[39m2\u001b[39;49m, i) \u001b[39mif\u001b[39;49;00m \u001b[39mnot\u001b[39;49;00m i \u001b[39m%\u001b[39;49m j]]\n\u001b[0;32m      7\u001b[0m     \u001b[39mreturn\u001b[39;00m list_prime\n",
      "Cell \u001b[1;32mIn[3], line 6\u001b[0m, in \u001b[0;36m<listcomp>\u001b[1;34m(.0)\u001b[0m\n\u001b[0;32m      4\u001b[0m \u001b[39m@timer\u001b[39m      \u001b[39m#декоратор\u001b[39;00m\n\u001b[0;32m      5\u001b[0m \u001b[39mdef\u001b[39;00m \u001b[39mprime_simple\u001b[39m(n: \u001b[39mint\u001b[39m) \u001b[39m-\u001b[39m\u001b[39m>\u001b[39m \u001b[39mlist\u001b[39m:   \u001b[39m#створення функції, яка приймає число - кінець діапазону пошуку простих чисел\u001b[39;00m\n\u001b[1;32m----> 6\u001b[0m     list_prime \u001b[39m=\u001b[39m [i \u001b[39mfor\u001b[39;00m i \u001b[39min\u001b[39;00m \u001b[39mrange\u001b[39m(\u001b[39m2\u001b[39m, n \u001b[39m+\u001b[39m \u001b[39m1\u001b[39m) \u001b[39mif\u001b[39;00m \u001b[39mnot\u001b[39;00m [j \u001b[39mfor\u001b[39;49;00m j \u001b[39min\u001b[39;49;00m \u001b[39mrange\u001b[39;49m(\u001b[39m2\u001b[39;49m, i) \u001b[39mif\u001b[39;49;00m \u001b[39mnot\u001b[39;49;00m i \u001b[39m%\u001b[39;49m j]]\n\u001b[0;32m      7\u001b[0m     \u001b[39mreturn\u001b[39;00m list_prime\n",
      "Cell \u001b[1;32mIn[3], line 6\u001b[0m, in \u001b[0;36m<listcomp>\u001b[1;34m(.0)\u001b[0m\n\u001b[0;32m      4\u001b[0m \u001b[39m@timer\u001b[39m      \u001b[39m#декоратор\u001b[39;00m\n\u001b[0;32m      5\u001b[0m \u001b[39mdef\u001b[39;00m \u001b[39mprime_simple\u001b[39m(n: \u001b[39mint\u001b[39m) \u001b[39m-\u001b[39m\u001b[39m>\u001b[39m \u001b[39mlist\u001b[39m:   \u001b[39m#створення функції, яка приймає число - кінець діапазону пошуку простих чисел\u001b[39;00m\n\u001b[1;32m----> 6\u001b[0m     list_prime \u001b[39m=\u001b[39m [i \u001b[39mfor\u001b[39;00m i \u001b[39min\u001b[39;00m \u001b[39mrange\u001b[39m(\u001b[39m2\u001b[39m, n \u001b[39m+\u001b[39m \u001b[39m1\u001b[39m) \u001b[39mif\u001b[39;00m \u001b[39mnot\u001b[39;00m [j \u001b[39mfor\u001b[39;00m j \u001b[39min\u001b[39;00m \u001b[39mrange\u001b[39m(\u001b[39m2\u001b[39m, i) \u001b[39mif\u001b[39;00m \u001b[39mnot\u001b[39;00m i \u001b[39m%\u001b[39m j]]\n\u001b[0;32m      7\u001b[0m     \u001b[39mreturn\u001b[39;00m list_prime\n",
      "\u001b[1;31mKeyboardInterrupt\u001b[0m: "
     ]
    }
   ],
   "source": [
    "#1. Найпростіша функція, яка створює список дільників для кожного числа і виводить список чисел які немають дільників\n",
    "#   окрім 1 і себе самого. \n",
    "#   !!! Найкоротший запис коду - це не завжди найоптимальніший варіант з точки зору ресурсів і часу виконання коду.\n",
    "@timer      #декоратор\n",
    "def prime_simple(n: int) -> list:   #створення функції, яка приймає число - кінець діапазону пошуку простих чисел\n",
    "    list_prime = [i for i in range(2, n + 1) if not [j for j in range(2, i) if not i % j]]\n",
    "    return list_prime\n",
    "\n",
    "prime_simple(a)\n",
    "prime_simple(b) \n",
    "prime_simple(c) \n",
    "prime_simple(d) # Досить затратний спосіб для великого діапазона. - більше трьох хвилин"
   ]
  },
  {
   "cell_type": "code",
   "execution_count": null,
   "metadata": {},
   "outputs": [
    {
     "name": "stdout",
     "output_type": "stream",
     "text": [
      "Час виконання prime_simple1: 0.0 секунд\n",
      "Час виконання prime_simple1: 0.01685190200805664 секунд\n",
      "Час виконання prime_simple1: 1.561061143875122 секунд\n",
      "Час виконання prime_simple1: 179.95330905914307 секунд\n"
     ]
    }
   ],
   "source": [
    "#1.1. Дещо спрощена попередня функція (в частині скорочення кількості дільників в два рази).\n",
    "#     Це дало змогу скоротити час виконання функції майже в 2 рази, але все одно багато часу на виконання великого діапазону.\n",
    "@timer\n",
    "def prime_simple1(n: int) -> list:\n",
    "    list_prime = [i for i in range(2, n + 1) if not [j for j in range(2, int(i // 2) + 1) if not i % j]]\n",
    "    return list_prime\n",
    "\n",
    "prime_simple1(a)\n",
    "prime_simple1(b) \n",
    "prime_simple1(c) \n",
    "prime_simple1(d) # майже 2 хвилини"
   ]
  },
  {
   "cell_type": "markdown",
   "metadata": {},
   "source": [
    "Решето Ератосфена - простий алгоритм знаходження всіх простих чисел, які менші за задане ціле число n.\n",
    "Алгоритм коротко: Необхідно викреслити всі числа, кратні всім простим числам p, де (p^2)<=n.\n",
    "Тобто \n",
    "- наш діапазон чисел, в якому шукаємо прості числа: від 1 до n, \n",
    "- діапазон дільників на які потрібно перевірити числа: від 2 до p, тобто від 2 до n^0,5"
   ]
  },
  {
   "cell_type": "code",
   "execution_count": null,
   "metadata": {},
   "outputs": [
    {
     "name": "stdout",
     "output_type": "stream",
     "text": [
      "Час виконання prime_eratosfen: 0.0 секунд\n",
      "Час виконання prime_eratosfen: 0.0009980201721191406 секунд\n",
      "Час виконання prime_eratosfen: 0.06753039360046387 секунд\n",
      "Час виконання prime_eratosfen: 6.164196252822876 секунд\n"
     ]
    }
   ],
   "source": [
    "#Решето Ер 1. Знаходження простих чисел методом \"Решета Ератосфена\"\n",
    "@timer  #декоратор\n",
    "def prime_eratosfen(n: int)-> list:      #створюємо функцію, яка приймає число (кінець діапазону) і виводить список простих чисел\n",
    "    list_prime = [i for i in range(3, n + 1, 2)]     #створюємо список непарних чисел, від 3 до заданого числа, який будемо піддавати решиту\n",
    "    list_prime.insert(0, 2)                        #додаємо до списку просте число 2, яке не врахували в попередньому етапі\n",
    "    for p in list_prime:    #створюємо цикл з кожним числом списку - це буде наш дільник, який вилучатиме числа з решета\n",
    "        if p <= int(n ** 0.5):                     #обмежуємо наш список дільників - не більше квадратного кореня n\n",
    "            for i in list_prime:                   #створюємо вкладений цикл з кожним числом списку \n",
    "                if i % p == 0 and i != p: list_prime.remove(i)  #видаляємо числа зі списку, які діляться без остачі на наш дільник \n",
    "        else:\n",
    "            break\n",
    "    return list_prime                               #повертаємо наше решето (список з простих чисел)\n",
    "\n",
    "prime_eratosfen(a)\n",
    "prime_eratosfen(b) \n",
    "prime_eratosfen(c) \n",
    "prime_eratosfen(d)"
   ]
  },
  {
   "cell_type": "code",
   "execution_count": null,
   "metadata": {},
   "outputs": [
    {
     "name": "stdout",
     "output_type": "stream",
     "text": [
      "Час виконання prime_eratosfen: 0.0 секунд\n",
      "Час виконання prime_eratosfen: 0.0 секунд\n",
      "Час виконання prime_eratosfen: 0.008011579513549805 секунд\n",
      "Час виконання prime_eratosfen: 0.13011932373046875 секунд\n"
     ]
    }
   ],
   "source": [
    "#Решето Ер 1.1 Варіант з додаванням до списку, а не видаленням.\n",
    "#           !!! Набагато швидший варіант\n",
    "@timer\n",
    "def prime_eratosfen1(n: int)-> list:      #створюємо функцію\n",
    "    list_prime = [2]                     # створюємо список з першим елементом 2\n",
    "    for i in range(3, n + 1, 2):    #цикл з кожним непарним числом від 3 до n\n",
    "        for p in range(3, int(i ** 0.5) + 1, 2):    #цикл з дільником. Від 3 до квадратного кореня i\n",
    "            if i % p == 0:      #якщо i ділиться на будь яке p перериваємо цикл\n",
    "                break\n",
    "        else:\n",
    "            list_prime.append(i) #якщо всі дільники пройшли і число не ділиться на жодне, додаємо i до списку простих чисел\n",
    "    return list_prime            #повертаємо наше решето (список з простих чисел)\n",
    "\n",
    "prime_eratosfen1(a)\n",
    "prime_eratosfen1(b) \n",
    "prime_eratosfen1(c) \n",
    "prime_eratosfen1(d)"
   ]
  },
  {
   "cell_type": "code",
   "execution_count": null,
   "metadata": {},
   "outputs": [
    {
     "name": "stdout",
     "output_type": "stream",
     "text": [
      "Час виконання prime_eratosfen_b: 0.0 секунд\n",
      "Час виконання prime_eratosfen_b: 0.0 секунд\n",
      "Час виконання prime_eratosfen_b: 0.011255979537963867 секунд\n",
      "Час виконання prime_eratosfen_b: 0.014690637588500977 секунд\n"
     ]
    }
   ],
   "source": [
    "#Решето Ер 2 bool - Оскільки булеві дані займають менше місця, перепишемо код на створення булевого списку.\n",
    "#                   !!! Це дало змогу значно прискорити виконання функції. Найшвидший варіант, який я зробила\n",
    "@timer\n",
    "def prime_eratosfen_b(n: int)-> list:      \n",
    "    prime = [True] * (n+1)          #Створюємо булевий список, індекси будуть нашими шуканими значеннями\n",
    "    prime[0], prime[1] = False, False       # 0 та 1 не є простими числами\n",
    "    for p in range(2, int(n ** 0.5) + 1):    # від 2 до квадратного кореня з n - це наш дільник\n",
    "        if prime[p]:                     # якщо просте (True в нашому списку)\n",
    "            for i in range(p * p, n + 1, p):   # позначаємо false всі значення кратні p. Для цього починаємо цикл з p^2 і з кроком p\n",
    "                prime[i] = False \n",
    "    return [i for i in range(n + 1) if prime[i]]               #повертаємо список індексів з True в списку\n",
    "\n",
    "prime_eratosfen_b(a)\n",
    "prime_eratosfen_b(b) \n",
    "prime_eratosfen_b(c) \n",
    "prime_eratosfen_b(d)"
   ]
  },
  {
   "cell_type": "markdown",
   "metadata": {},
   "source": [
    "Спосіб 2: Простий спосіб для розрахунку часу виконання функції. Створення коду для розрахунку для кожної функції окремо.\n",
    "        Перевіримо цей спосіб на прикладі одного простого варіанту та сита Ератосфена (з використанням bool)"
   ]
  },
  {
   "cell_type": "code",
   "execution_count": null,
   "metadata": {},
   "outputs": [],
   "source": [
    "def prime_simple1(n: int) -> list:\n",
    "    list_prime = [i for i in range(2, n + 1) if not [j for j in range(2, int(i // 2) + 1) if not i % j]]\n",
    "    return list_prime"
   ]
  },
  {
   "cell_type": "code",
   "execution_count": null,
   "metadata": {},
   "outputs": [
    {
     "name": "stdout",
     "output_type": "stream",
     "text": [
      "Час виконання: 1.6859064102172852 секунд\n"
     ]
    }
   ],
   "source": [
    "n = 10000\n",
    "\n",
    "start = time.time()\n",
    "primes_simple = prime_simple1(n)\n",
    "end = time.time()\n",
    "print(f\"Час виконання: {end - start} секунд\")\n"
   ]
  },
  {
   "cell_type": "code",
   "execution_count": null,
   "metadata": {},
   "outputs": [],
   "source": [
    "def prime_eratosfen_b(n: int)-> list:      \n",
    "    prime = [True] * (n+1)\n",
    "    prime[0], prime[1] = False, False\n",
    "    for p in range(2, int(n ** 0.5) + 1):\n",
    "        if prime[p]:\n",
    "            for i in range(p * p, n + 1, p):\n",
    "                prime[i] = False \n",
    "    return [i for i in range(n + 1) if prime[i]]"
   ]
  },
  {
   "cell_type": "code",
   "execution_count": null,
   "metadata": {},
   "outputs": [
    {
     "name": "stdout",
     "output_type": "stream",
     "text": [
      "0.0027549266815185547\n",
      "Час виконання: 0.0027549266815185547 секунд\n"
     ]
    }
   ],
   "source": [
    "start = time.time()\n",
    "primes_efficient = prime_eratosfen_b(n)\n",
    "end = time.time()\n",
    "print(f\"Час виконання: {end - start} секунд\")"
   ]
  }
 ],
 "metadata": {
  "kernelspec": {
   "display_name": "Python 3",
   "language": "python",
   "name": "python3"
  },
  "language_info": {
   "codemirror_mode": {
    "name": "ipython",
    "version": 3
   },
   "file_extension": ".py",
   "mimetype": "text/x-python",
   "name": "python",
   "nbconvert_exporter": "python",
   "pygments_lexer": "ipython3",
   "version": "3.11.4"
  },
  "orig_nbformat": 4
 },
 "nbformat": 4,
 "nbformat_minor": 2
}
