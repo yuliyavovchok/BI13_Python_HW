{
 "cells": [
  {
   "cell_type": "markdown",
   "metadata": {},
   "source": [
    "Завдання:\n",
    "1. Прочитайте офіційну специфікацію формату та приклади -\n",
    "https://docs.python.org/3.4/library/string.html#formatspec\n",
    "2. Прочитайте документацію формату дата та час -\n",
    "https://docs.python.org/3/library/datetime.html#strftime-strptime-behavior\n",
    "А краще тут\n",
    "https://www.w3schools.com/python/python_datetime.asp\n",
    "https://www.programiz.com/python-programming/time\n",
    "3. Прочитайте цей посібник з функцій\n",
    "https://docs.python.org/3.7/tutorial/controlflow.html#defining-functions\n",
    "https://www.w3schools.com/python/python_functions.asp\n",
    "4. Використовуйте модуль часу, щоб порівняти продуктивність\n",
    "«ефективного» методу пошуку простих чисел із простою реалізацією (без\n",
    "перерв, тестування за всіма числами тощо). Перевірте кілька діапазонів\n",
    "пошуку простих чисел (наприклад, до 100, до 1000 і т.д.)\n",
    "Ефективний метод - будь який математично визначиний підхід обрахунку.\n",
    "Рекомендую дивитись метод Решето Эратосфена - https://ru.wikipedia.org/wiki/\n",
    "Решето_Эратосфена"
   ]
  },
  {
   "cell_type": "markdown",
   "metadata": {},
   "source": [
    "Спосіб 1: Створення декоратора для розрахунку часу виконання функції."
   ]
  },
  {
   "cell_type": "code",
   "execution_count": 8,
   "metadata": {},
   "outputs": [],
   "source": [
    "#Створення декоратора\n",
    "import time\n",
    "\n",
    "def timer(func):                        # Аргумент - функція\n",
    "    def wrapper(*args, **kwargs):       # Функція з будь якими аргументами\n",
    "        start_time = time.time()        # Час початку\n",
    "        result = func(*args, **kwargs)  # Виконання вкладеної функції\n",
    "        end_time = time.time()          # Час закінчення виконання функції\n",
    "        print(f\"Час виконання {func.__name__}: {end_time - start_time} секунд\")\n",
    "        #return result                  # Закоментувала, оскільки виводимо великі списки. Щоб не відволікатись від часу виконання\n",
    "    return wrapper"
   ]
  },
  {
   "cell_type": "code",
   "execution_count": 9,
   "metadata": {},
   "outputs": [],
   "source": [
    "# Створюємо змінні для введення в майбутні функції для порівняння часу виконання\n",
    "a = 100\n",
    "b = 1000\n",
    "c = 10000\n",
    "d = 100000"
   ]
  },
  {
   "cell_type": "code",
   "execution_count": 10,
   "metadata": {},
   "outputs": [
    {
     "name": "stdout",
     "output_type": "stream",
     "text": [
      "Час виконання prime_simple: 0.0 секунд\n",
      "Час виконання prime_simple: 0.02289104461669922 секунд\n",
      "Час виконання prime_simple: 3.436649799346924 секунд\n",
      "Час виконання prime_simple: 627.4725353717804 секунд\n"
     ]
    }
   ],
   "source": [
    "#1. Найпростіша функція, яка створює список дільників для кожного числа і виводить список чисел які немають дільників\n",
    "#   окрім 1 і себе самого. \n",
    "#   !!! Найкоротший запис коду - це не завжди найоптимальніший варіант з точки зору ресурсів і часу виконання коду.\n",
    "@timer      #декоратор\n",
    "def prime_simple(n: int) -> list:   #створення функції, яка приймає число - кінець діапазону пошуку простих чисел\n",
    "    list_prime = [i for i in range(2, n + 1) if not [j for j in range(2, i) if not i % j]]\n",
    "    return list_prime\n",
    "\n",
    "prime_simple(a)\n",
    "prime_simple(b) \n",
    "prime_simple(c) \n",
    "prime_simple(d)"
   ]
  },
  {
   "cell_type": "code",
   "execution_count": 11,
   "metadata": {},
   "outputs": [
    {
     "name": "stdout",
     "output_type": "stream",
     "text": [
      "Час виконання prime_simple1: 0.00672459602355957 секунд\n",
      "Час виконання prime_simple1: 0.0179135799407959 секунд\n",
      "Час виконання prime_simple1: 1.6308634281158447 секунд\n",
      "Час виконання prime_simple1: 335.1481885910034 секунд\n"
     ]
    }
   ],
   "source": [
    "#1.1. Дещо спрощена попередня функція (в частині скорочення кількості дільників в два рази).\n",
    "#     Це дало змогу скоротити час виконання функції майже в 2 рази, але все одно багато часу на виконання великого діапазону.\n",
    "@timer\n",
    "def prime_simple1(n: int) -> list:\n",
    "    list_prime = [i for i in range(2, n + 1) if not [j for j in range(2, int(i // 2) + 1) if not i % j]]\n",
    "    return list_prime\n",
    "\n",
    "prime_simple1(a)\n",
    "prime_simple1(b) \n",
    "prime_simple1(c) \n",
    "prime_simple1(d)"
   ]
  },
  {
   "cell_type": "markdown",
   "metadata": {},
   "source": [
    "Решето Ератосфена - простий алгоритм знаходження всіх простих чисел, які менші за задане ціле число n.\n",
    "Алгоритм коротко: Необхідно викреслити всі числа, кратні всім простим числам p, де (p^2)<=n.\n",
    "Тобто \n",
    "- наш діапазон чисел, в якому шукаємо прості числа: від 1 до n, \n",
    "- діапазон дільників на які потрібно перевірити числа: від 2 до p, тобто від 2 до n^0,5"
   ]
  },
  {
   "cell_type": "code",
   "execution_count": 12,
   "metadata": {},
   "outputs": [
    {
     "name": "stdout",
     "output_type": "stream",
     "text": [
      "Час виконання prime_eratosfen: 0.0 секунд\n",
      "Час виконання prime_eratosfen: 0.0 секунд\n",
      "Час виконання prime_eratosfen: 0.09201431274414062 секунд\n",
      "Час виконання prime_eratosfen: 11.225351810455322 секунд\n"
     ]
    }
   ],
   "source": [
    "#Решето Ер 1. Знаходження простих чисел методом \"Решета Ератосфена\"\n",
    "@timer  #декоратор\n",
    "def prime_eratosfen(n: int)-> list:      #створюємо функцію, яка приймає число (кінець діапазону) і виводить список простих чисел\n",
    "    list_prime = [i for i in range(3, n + 1, 2)]     #створюємо список непарних чисел, від 3 до заданого числа, який будемо піддавати решиту\n",
    "    list_prime.insert(0, 2)                        #додаємо до списку просте число 2, яке не врахували в попередньому етапі\n",
    "    for p in list_prime:    #створюємо цикл з кожним числом списку - це буде наш дільник, який вилучатиме числа з решета\n",
    "        if p <= int(n ** 0.5):                     #обмежуємо наш список дільників - не більше квадратного кореня n\n",
    "            for i in list_prime:                   #створюємо вкладений цикл з кожним числом списку \n",
    "                if i % p == 0 and i != p: list_prime.remove(i)  #видаляємо числа зі списку, які діляться без остачі на наш дільник \n",
    "        else:\n",
    "            break\n",
    "    return list_prime                               #повертаємо наше решето (список з простих чисел)\n",
    "\n",
    "prime_eratosfen(a)\n",
    "prime_eratosfen(b) \n",
    "prime_eratosfen(c) \n",
    "prime_eratosfen(d)"
   ]
  },
  {
   "cell_type": "code",
   "execution_count": 13,
   "metadata": {},
   "outputs": [
    {
     "name": "stdout",
     "output_type": "stream",
     "text": [
      "Час виконання prime_eratosfen1: 0.0 секунд\n",
      "Час виконання prime_eratosfen1: 0.0 секунд\n",
      "Час виконання prime_eratosfen1: 0.013792753219604492 секунд\n",
      "Час виконання prime_eratosfen1: 0.12213325500488281 секунд\n"
     ]
    }
   ],
   "source": [
    "#Решето Ер 1.1 Варіант з додаванням до списку, а не видаленням.\n",
    "#           !!! Набагато швидший варіант\n",
    "@timer\n",
    "def prime_eratosfen1(n: int)-> list:      #створюємо функцію\n",
    "    list_prime = [2]                     # створюємо список з першим елементом 2\n",
    "    for i in range(3, n + 1, 2):    #цикл з кожним непарним числом від 3 до n\n",
    "        for p in range(3, int(i ** 0.5) + 1, 2):    #цикл з дільником. Від 3 до квадратного кореня i\n",
    "            if i % p == 0:      #якщо i ділиться на будь яке p перериваємо цикл\n",
    "                break\n",
    "        else:\n",
    "            list_prime.append(i) #якщо всі дільники пройшли і число не ділиться на жодне, додаємо i до списку простих чисел\n",
    "    return list_prime            #повертаємо наше решето (список з простих чисел)\n",
    "\n",
    "prime_eratosfen1(a)\n",
    "prime_eratosfen1(b) \n",
    "prime_eratosfen1(c) \n",
    "prime_eratosfen1(d)"
   ]
  },
  {
   "cell_type": "code",
   "execution_count": 14,
   "metadata": {},
   "outputs": [
    {
     "name": "stdout",
     "output_type": "stream",
     "text": [
      "Час виконання prime_eratosfen_b: 0.0 секунд\n",
      "Час виконання prime_eratosfen_b: 0.0 секунд\n",
      "Час виконання prime_eratosfen_b: 0.0 секунд\n",
      "Час виконання prime_eratosfen_b: 0.024636030197143555 секунд\n"
     ]
    }
   ],
   "source": [
    "#Решето Ер 2 bool - Оскільки булеві дані займають менше місця, перепишемо код на створення булевого списку.\n",
    "#                   !!! Це дало змогу значно прискорити виконання функції. Найшвидший варіант, який я зробила\n",
    "@timer\n",
    "def prime_eratosfen_b(n: int)-> list:      \n",
    "    prime = [True] * (n+1)          #Створюємо булевий список, індекси будуть нашими шуканими значеннями\n",
    "    prime[0], prime[1] = False, False       # 0 та 1 не є простими числами\n",
    "    for p in range(2, int(n ** 0.5) + 1):    # від 2 до квадратного кореня з n - це наш дільник\n",
    "        if prime[p]:                     # якщо просте (True в нашому списку)\n",
    "            for i in range(p * p, n + 1, p):   # позначаємо false всі значення кратні p. Для цього починаємо цикл з p^2 і з кроком p\n",
    "                prime[i] = False \n",
    "    return [i for i in range(n + 1) if prime[i]]               #повертаємо список індексів з True в списку\n",
    "\n",
    "prime_eratosfen_b(a)\n",
    "prime_eratosfen_b(b) \n",
    "prime_eratosfen_b(c) \n",
    "prime_eratosfen_b(d)"
   ]
  },
  {
   "cell_type": "markdown",
   "metadata": {},
   "source": [
    "Спосіб 2: Простий спосіб для розрахунку часу виконання функції. Створення коду для розрахунку для кожної функції окремо.\n",
    "        Перевіримо цей спосіб на прикладі одного простого варіанту та сита Ератосфена (з використанням bool)"
   ]
  },
  {
   "cell_type": "code",
   "execution_count": 15,
   "metadata": {},
   "outputs": [],
   "source": [
    "def prime_simple1(n: int) -> list:\n",
    "    list_prime = [i for i in range(2, n + 1) if not [j for j in range(2, int(i // 2) + 1) if not i % j]]\n",
    "    return list_prime"
   ]
  },
  {
   "cell_type": "code",
   "execution_count": 16,
   "metadata": {},
   "outputs": [
    {
     "name": "stdout",
     "output_type": "stream",
     "text": [
      "Час виконання: 1.8513283729553223 секунд\n"
     ]
    }
   ],
   "source": [
    "n = 10000\n",
    "\n",
    "start = time.time()\n",
    "primes_simple = prime_simple1(n)\n",
    "end = time.time()\n",
    "print(f\"Час виконання: {end - start} секунд\")\n"
   ]
  },
  {
   "cell_type": "code",
   "execution_count": 17,
   "metadata": {},
   "outputs": [],
   "source": [
    "def prime_eratosfen_b(n: int)-> list:      \n",
    "    prime = [True] * (n+1)\n",
    "    prime[0], prime[1] = False, False\n",
    "    for p in range(2, int(n ** 0.5) + 1):\n",
    "        if prime[p]:\n",
    "            for i in range(p * p, n + 1, p):\n",
    "                prime[i] = False \n",
    "    return [i for i in range(n + 1) if prime[i]]"
   ]
  },
  {
   "cell_type": "code",
   "execution_count": 18,
   "metadata": {},
   "outputs": [
    {
     "name": "stdout",
     "output_type": "stream",
     "text": [
      "Час виконання: 0.009329795837402344 секунд\n"
     ]
    }
   ],
   "source": [
    "start = time.time()\n",
    "primes_efficient = prime_eratosfen_b(n)\n",
    "end = time.time()\n",
    "print(f\"Час виконання: {end - start} секунд\")"
   ]
  }
 ],
 "metadata": {
  "kernelspec": {
   "display_name": "Python 3",
   "language": "python",
   "name": "python3"
  },
  "language_info": {
   "codemirror_mode": {
    "name": "ipython",
    "version": 3
   },
   "file_extension": ".py",
   "mimetype": "text/x-python",
   "name": "python",
   "nbconvert_exporter": "python",
   "pygments_lexer": "ipython3",
   "version": "3.11.4"
  },
  "orig_nbformat": 4
 },
 "nbformat": 4,
 "nbformat_minor": 2
}
